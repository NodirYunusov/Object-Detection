{
 "cells": [
  {
   "cell_type": "markdown",
   "id": "c673ce46-27a0-4376-943d-d9aefb0c5766",
   "metadata": {},
   "source": [
    "### Click on the lin below to see the model"
   ]
  },
  {
   "cell_type": "markdown",
   "id": "7173fd49-e404-4c4b-ba07-af20a839c4f7",
   "metadata": {},
   "source": [
    "### https://drive.google.com/drive/folders/1kHLbT_uUYAk6zYEGfQb-yl75bv2j0N1F"
   ]
  },
  {
   "cell_type": "code",
   "execution_count": null,
   "id": "82211025-4428-47ee-953a-2335f5a3c0df",
   "metadata": {},
   "outputs": [],
   "source": [
    "\"\"\" I give you a link because of github memory limits. Please visit Mydrive and see the results \"\"\"\n",
    "\n",
    "https://drive.google.com/drive/folders/1kHLbT_uUYAk6zYEGfQb-yl75bv2j0N1F"
   ]
  },
  {
   "cell_type": "code",
   "execution_count": null,
   "id": "25a6e77e-1536-4234-b661-636c4961f5da",
   "metadata": {},
   "outputs": [],
   "source": []
  },
  {
   "cell_type": "code",
   "execution_count": null,
   "id": "d5c0d5c3-03fa-46fd-b88d-f3443ba8d8de",
   "metadata": {},
   "outputs": [],
   "source": []
  },
  {
   "cell_type": "code",
   "execution_count": null,
   "id": "6ceb9e4a-cde1-4a2b-ad60-43f3dae5ba51",
   "metadata": {},
   "outputs": [],
   "source": []
  },
  {
   "cell_type": "code",
   "execution_count": null,
   "id": "2831d41a-d28a-4125-a0c0-bc18e155b7ef",
   "metadata": {},
   "outputs": [],
   "source": []
  },
  {
   "cell_type": "code",
   "execution_count": null,
   "id": "5bb69ee9-08cb-480f-bc77-23aa99aee3b4",
   "metadata": {},
   "outputs": [],
   "source": []
  },
  {
   "cell_type": "code",
   "execution_count": null,
   "id": "d157b1ff-42a2-4e5e-83b6-ee9c59d7c30b",
   "metadata": {},
   "outputs": [],
   "source": []
  },
  {
   "cell_type": "code",
   "execution_count": null,
   "id": "fa4f0509-28b4-464a-8b28-4e2392174a93",
   "metadata": {},
   "outputs": [],
   "source": []
  },
  {
   "cell_type": "code",
   "execution_count": null,
   "id": "1200c221-c86e-4b02-90e1-fa3674cf8abb",
   "metadata": {},
   "outputs": [],
   "source": []
  },
  {
   "cell_type": "code",
   "execution_count": null,
   "id": "e7cbb2eb-1cfc-4b62-975a-210bd41daafc",
   "metadata": {},
   "outputs": [],
   "source": []
  },
  {
   "cell_type": "code",
   "execution_count": null,
   "id": "b27fff31-e4be-47eb-a7d4-2b3b63d17520",
   "metadata": {},
   "outputs": [],
   "source": []
  },
  {
   "cell_type": "code",
   "execution_count": null,
   "id": "04b6de6a-23a2-45aa-9fc6-e543a4c1a3c3",
   "metadata": {},
   "outputs": [],
   "source": []
  }
 ],
 "metadata": {
  "kernelspec": {
   "display_name": "Object detection",
   "language": "python",
   "name": "detection"
  },
  "language_info": {
   "codemirror_mode": {
    "name": "ipython",
    "version": 3
   },
   "file_extension": ".py",
   "mimetype": "text/x-python",
   "name": "python",
   "nbconvert_exporter": "python",
   "pygments_lexer": "ipython3",
   "version": "3.9.21"
  }
 },
 "nbformat": 4,
 "nbformat_minor": 5
}
